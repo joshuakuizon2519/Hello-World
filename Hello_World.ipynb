{
 "cells": [
  {
   "cell_type": "code",
   "execution_count": 1,
   "id": "d7ee318d-9b23-4215-8ee0-15848d6cc6e8",
   "metadata": {},
   "outputs": [],
   "source": [
    "import numpy as np"
   ]
  },
  {
   "cell_type": "code",
   "execution_count": 2,
   "id": "0a0a3f53-9cd4-455b-ae87-161e6191eec0",
   "metadata": {},
   "outputs": [
    {
     "ename": "ModuleNotFoundError",
     "evalue": "No module named 'matplotlib'",
     "output_type": "error",
     "traceback": [
      "\u001b[1;31m---------------------------------------------------------------------------\u001b[0m",
      "\u001b[1;31mModuleNotFoundError\u001b[0m                       Traceback (most recent call last)",
      "Cell \u001b[1;32mIn[2], line 1\u001b[0m\n\u001b[1;32m----> 1\u001b[0m \u001b[38;5;28;01mimport\u001b[39;00m \u001b[38;5;21;01mmatplotlib\u001b[39;00m\u001b[38;5;21;01m.\u001b[39;00m\u001b[38;5;21;01mpyplot\u001b[39;00m \u001b[38;5;28;01mas\u001b[39;00m \u001b[38;5;21;01mpyp\u001b[39;00m\n",
      "\u001b[1;31mModuleNotFoundError\u001b[0m: No module named 'matplotlib'"
     ]
    }
   ],
   "source": [
    "import matplotlib.pyplot as pyp"
   ]
  },
  {
   "cell_type": "code",
   "execution_count": 4,
   "id": "1a49f061-643e-407e-bdb1-9ee8eb5001d7",
   "metadata": {},
   "outputs": [
    {
     "name": "stdout",
     "output_type": "stream",
     "text": [
      "Collecting matplotlib\n",
      "  Using cached matplotlib-3.7.2-cp311-cp311-win_amd64.whl (7.5 MB)\n"
     ]
    },
    {
     "name": "stderr",
     "output_type": "stream",
     "text": [
      "ERROR: Could not find a version that satisfies the requirement pyplot (from versions: none)\n",
      "ERROR: No matching distribution found for pyplot\n",
      "\n",
      "[notice] A new release of pip is available: 23.1.2 -> 23.2.1\n",
      "[notice] To update, run: python.exe -m pip install --upgrade pip\n"
     ]
    }
   ],
   "source": [
    "!pip install matplotlib pyplot"
   ]
  },
  {
   "cell_type": "code",
   "execution_count": 5,
   "id": "d7992420-e2cf-4f10-8272-6452eaccb7d1",
   "metadata": {},
   "outputs": [
    {
     "name": "stdout",
     "output_type": "stream",
     "text": [
      "Collecting matplotlib\n",
      "  Using cached matplotlib-3.7.2-cp311-cp311-win_amd64.whl (7.5 MB)\n",
      "Collecting contourpy>=1.0.1 (from matplotlib)\n",
      "  Downloading contourpy-1.1.0-cp311-cp311-win_amd64.whl (470 kB)\n",
      "                                              0.0/470.9 kB ? eta -:--:--\n",
      "                                              10.2/470.9 kB ? eta -:--:--\n",
      "     ---                                   41.0/470.9 kB 653.6 kB/s eta 0:00:01\n",
      "     ------                                81.9/470.9 kB 919.0 kB/s eta 0:00:01\n",
      "     ------                                81.9/470.9 kB 919.0 kB/s eta 0:00:01\n",
      "     ------                                81.9/470.9 kB 919.0 kB/s eta 0:00:01\n",
      "     -------                               92.2/470.9 kB 435.7 kB/s eta 0:00:01\n",
      "     -----------------                    225.3/470.9 kB 808.4 kB/s eta 0:00:01\n",
      "     ------------------                   245.8/470.9 kB 793.0 kB/s eta 0:00:01\n",
      "     ------------------                   245.8/470.9 kB 793.0 kB/s eta 0:00:01\n",
      "     ---------------------------          358.4/470.9 kB 857.5 kB/s eta 0:00:01\n",
      "     -------------------------------      409.6/470.9 kB 881.6 kB/s eta 0:00:01\n",
      "     -----------------------------------  460.8/470.9 kB 930.9 kB/s eta 0:00:01\n",
      "     ------------------------------------ 470.9/470.9 kB 867.5 kB/s eta 0:00:00\n",
      "Collecting cycler>=0.10 (from matplotlib)\n",
      "  Downloading cycler-0.11.0-py3-none-any.whl (6.4 kB)\n",
      "Collecting fonttools>=4.22.0 (from matplotlib)\n",
      "  Downloading fonttools-4.42.1-cp311-cp311-win_amd64.whl (2.1 MB)\n",
      "                                              0.0/2.1 MB ? eta -:--:--\n",
      "                                              0.0/2.1 MB 2.0 MB/s eta 0:00:02\n",
      "                                              0.0/2.1 MB 2.0 MB/s eta 0:00:02\n",
      "                                              0.0/2.1 MB 2.0 MB/s eta 0:00:02\n",
      "     -                                        0.1/2.1 MB 585.1 kB/s eta 0:00:04\n",
      "     ----                                     0.3/2.1 MB 1.3 MB/s eta 0:00:02\n",
      "     ----                                     0.3/2.1 MB 1.3 MB/s eta 0:00:02\n",
      "     -----                                    0.3/2.1 MB 930.9 kB/s eta 0:00:02\n",
      "     --------                                 0.5/2.1 MB 1.5 MB/s eta 0:00:02\n",
      "     ---------                                0.5/2.1 MB 1.3 MB/s eta 0:00:02\n",
      "     ----------                               0.6/2.1 MB 1.2 MB/s eta 0:00:02\n",
      "     ----------                               0.6/2.1 MB 1.2 MB/s eta 0:00:02\n",
      "     -----------                              0.6/2.1 MB 1.1 MB/s eta 0:00:02\n",
      "     -------------                            0.7/2.1 MB 1.2 MB/s eta 0:00:02\n",
      "     -------------                            0.7/2.1 MB 1.1 MB/s eta 0:00:02\n",
      "     -------------                            0.7/2.1 MB 1.1 MB/s eta 0:00:02\n",
      "     -------------                            0.7/2.1 MB 996.9 kB/s eta 0:00:02\n",
      "     -------------                            0.7/2.1 MB 996.9 kB/s eta 0:00:02\n",
      "     --------------                           0.7/2.1 MB 925.1 kB/s eta 0:00:02\n",
      "     --------------                           0.8/2.1 MB 902.8 kB/s eta 0:00:02\n",
      "     --------------                           0.8/2.1 MB 877.7 kB/s eta 0:00:02\n",
      "     ---------------                          0.8/2.1 MB 827.4 kB/s eta 0:00:02\n",
      "     ---------------                          0.8/2.1 MB 809.0 kB/s eta 0:00:02\n",
      "     ---------------                          0.8/2.1 MB 809.0 kB/s eta 0:00:02\n",
      "     ---------------                          0.8/2.1 MB 771.4 kB/s eta 0:00:02\n",
      "     ----------------                         0.8/2.1 MB 746.4 kB/s eta 0:00:02\n",
      "     ----------------                         0.9/2.1 MB 735.2 kB/s eta 0:00:02\n",
      "     ----------------                         0.9/2.1 MB 723.5 kB/s eta 0:00:02\n",
      "     -----------------                        0.9/2.1 MB 712.7 kB/s eta 0:00:02\n",
      "     -----------------                        0.9/2.1 MB 694.8 kB/s eta 0:00:02\n",
      "     -----------------                        0.9/2.1 MB 685.7 kB/s eta 0:00:02\n",
      "     -----------------                        0.9/2.1 MB 685.7 kB/s eta 0:00:02\n",
      "     -----------------                        0.9/2.1 MB 648.5 kB/s eta 0:00:02\n",
      "     -----------------                        0.9/2.1 MB 648.5 kB/s eta 0:00:02\n",
      "     -------------------                      1.0/2.1 MB 662.2 kB/s eta 0:00:02\n",
      "     -------------------                      1.0/2.1 MB 655.4 kB/s eta 0:00:02\n",
      "     --------------------                     1.1/2.1 MB 636.9 kB/s eta 0:00:02\n",
      "     --------------------                     1.1/2.1 MB 636.9 kB/s eta 0:00:02\n",
      "     --------------------                     1.1/2.1 MB 619.5 kB/s eta 0:00:02\n",
      "     --------------------                     1.1/2.1 MB 609.5 kB/s eta 0:00:02\n",
      "     --------------------                     1.1/2.1 MB 609.5 kB/s eta 0:00:02\n",
      "     --------------------                     1.1/2.1 MB 609.5 kB/s eta 0:00:02\n",
      "     --------------------                     1.1/2.1 MB 574.9 kB/s eta 0:00:02\n",
      "     --------------------                     1.1/2.1 MB 574.9 kB/s eta 0:00:02\n",
      "     ---------------------                    1.1/2.1 MB 562.6 kB/s eta 0:00:02\n",
      "     ---------------------                    1.1/2.1 MB 551.2 kB/s eta 0:00:02\n",
      "     ---------------------                    1.1/2.1 MB 551.2 kB/s eta 0:00:02\n",
      "     ---------------------                    1.1/2.1 MB 551.2 kB/s eta 0:00:02\n",
      "     ---------------------                    1.2/2.1 MB 528.0 kB/s eta 0:00:02\n",
      "     ----------------------                   1.2/2.1 MB 522.5 kB/s eta 0:00:02\n",
      "     ----------------------                   1.2/2.1 MB 516.3 kB/s eta 0:00:02\n",
      "     -----------------------                  1.2/2.1 MB 519.9 kB/s eta 0:00:02\n",
      "     -----------------------                  1.2/2.1 MB 517.4 kB/s eta 0:00:02\n",
      "     -----------------------                  1.3/2.1 MB 515.8 kB/s eta 0:00:02\n",
      "     -----------------------                  1.3/2.1 MB 515.8 kB/s eta 0:00:02\n",
      "     -----------------------                  1.3/2.1 MB 500.8 kB/s eta 0:00:02\n",
      "     -----------------------                  1.3/2.1 MB 500.8 kB/s eta 0:00:02\n",
      "     ------------------------                 1.3/2.1 MB 490.6 kB/s eta 0:00:02\n",
      "     ------------------------                 1.3/2.1 MB 490.6 kB/s eta 0:00:02\n",
      "     ------------------------                 1.3/2.1 MB 480.2 kB/s eta 0:00:02\n",
      "     ------------------------                 1.3/2.1 MB 476.6 kB/s eta 0:00:02\n",
      "     ------------------------                 1.3/2.1 MB 476.6 kB/s eta 0:00:02\n",
      "     ------------------------                 1.3/2.1 MB 476.6 kB/s eta 0:00:02\n",
      "     --------------------------               1.4/2.1 MB 474.8 kB/s eta 0:00:02\n",
      "     --------------------------               1.4/2.1 MB 474.8 kB/s eta 0:00:02\n",
      "     ---------------------------              1.4/2.1 MB 477.0 kB/s eta 0:00:02\n",
      "     ---------------------------              1.5/2.1 MB 479.7 kB/s eta 0:00:02\n",
      "     ----------------------------             1.5/2.1 MB 481.6 kB/s eta 0:00:02\n",
      "     ----------------------------             1.5/2.1 MB 475.1 kB/s eta 0:00:02\n",
      "     ----------------------------             1.5/2.1 MB 477.0 kB/s eta 0:00:02\n",
      "     -----------------------------            1.5/2.1 MB 474.0 kB/s eta 0:00:02\n",
      "     -----------------------------            1.5/2.1 MB 470.4 kB/s eta 0:00:02\n",
      "     -----------------------------            1.6/2.1 MB 470.0 kB/s eta 0:00:02\n",
      "     -----------------------------            1.6/2.1 MB 470.0 kB/s eta 0:00:02\n",
      "     -----------------------------            1.6/2.1 MB 460.0 kB/s eta 0:00:02\n",
      "     -----------------------------            1.6/2.1 MB 460.0 kB/s eta 0:00:02\n",
      "     ------------------------------           1.6/2.1 MB 455.6 kB/s eta 0:00:02\n",
      "     ------------------------------           1.6/2.1 MB 455.6 kB/s eta 0:00:02\n",
      "     ------------------------------           1.6/2.1 MB 451.3 kB/s eta 0:00:02\n",
      "     ------------------------------           1.6/2.1 MB 448.3 kB/s eta 0:00:02\n",
      "     -------------------------------          1.6/2.1 MB 446.2 kB/s eta 0:00:02\n",
      "     -------------------------------          1.7/2.1 MB 443.3 kB/s eta 0:00:02\n",
      "     -------------------------------          1.7/2.1 MB 441.4 kB/s eta 0:00:01\n",
      "     --------------------------------         1.7/2.1 MB 443.2 kB/s eta 0:00:01\n",
      "     --------------------------------         1.7/2.1 MB 438.7 kB/s eta 0:00:01\n",
      "     --------------------------------         1.7/2.1 MB 440.4 kB/s eta 0:00:01\n",
      "     --------------------------------         1.7/2.1 MB 440.4 kB/s eta 0:00:01\n",
      "     ---------------------------------        1.8/2.1 MB 436.1 kB/s eta 0:00:01\n",
      "     ---------------------------------        1.8/2.1 MB 436.1 kB/s eta 0:00:01\n",
      "     ---------------------------------        1.8/2.1 MB 436.1 kB/s eta 0:00:01\n",
      "     ---------------------------------        1.8/2.1 MB 436.1 kB/s eta 0:00:01\n",
      "     ----------------------------------       1.8/2.1 MB 429.6 kB/s eta 0:00:01\n",
      "     ----------------------------------       1.8/2.1 MB 431.3 kB/s eta 0:00:01\n",
      "     ----------------------------------       1.8/2.1 MB 431.3 kB/s eta 0:00:01\n",
      "     -----------------------------------      1.9/2.1 MB 426.7 kB/s eta 0:00:01\n",
      "     -----------------------------------      1.9/2.1 MB 426.7 kB/s eta 0:00:01\n",
      "     -----------------------------------      1.9/2.1 MB 418.5 kB/s eta 0:00:01\n",
      "     -----------------------------------      1.9/2.1 MB 418.5 kB/s eta 0:00:01\n",
      "     -----------------------------------      1.9/2.1 MB 415.8 kB/s eta 0:00:01\n",
      "     -----------------------------------      1.9/2.1 MB 415.8 kB/s eta 0:00:01\n",
      "     -----------------------------------      1.9/2.1 MB 406.9 kB/s eta 0:00:01\n",
      "     -----------------------------------      1.9/2.1 MB 406.9 kB/s eta 0:00:01\n",
      "     ------------------------------------     1.9/2.1 MB 404.5 kB/s eta 0:00:01\n",
      "     ------------------------------------     1.9/2.1 MB 403.5 kB/s eta 0:00:01\n",
      "     ------------------------------------     2.0/2.1 MB 399.1 kB/s eta 0:00:01\n",
      "     ------------------------------------     2.0/2.1 MB 399.1 kB/s eta 0:00:01\n",
      "     -------------------------------------    2.0/2.1 MB 396.9 kB/s eta 0:00:01\n",
      "     -------------------------------------    2.0/2.1 MB 396.9 kB/s eta 0:00:01\n",
      "     -------------------------------------    2.0/2.1 MB 391.6 kB/s eta 0:00:01\n",
      "     -------------------------------------    2.0/2.1 MB 391.6 kB/s eta 0:00:01\n",
      "     -------------------------------------    2.0/2.1 MB 389.6 kB/s eta 0:00:01\n",
      "     --------------------------------------   2.0/2.1 MB 390.0 kB/s eta 0:00:01\n",
      "     --------------------------------------   2.0/2.1 MB 387.4 kB/s eta 0:00:01\n",
      "     --------------------------------------   2.0/2.1 MB 387.4 kB/s eta 0:00:01\n",
      "     --------------------------------------   2.0/2.1 MB 387.4 kB/s eta 0:00:01\n",
      "     --------------------------------------   2.1/2.1 MB 382.2 kB/s eta 0:00:01\n",
      "     --------------------------------------   2.1/2.1 MB 382.2 kB/s eta 0:00:01\n",
      "     ---------------------------------------  2.1/2.1 MB 380.1 kB/s eta 0:00:01\n",
      "     ---------------------------------------  2.1/2.1 MB 380.1 kB/s eta 0:00:01\n",
      "     ---------------------------------------  2.1/2.1 MB 379.5 kB/s eta 0:00:01\n",
      "     ---------------------------------------- 2.1/2.1 MB 372.4 kB/s eta 0:00:00\n",
      "Collecting kiwisolver>=1.0.1 (from matplotlib)\n",
      "  Downloading kiwisolver-1.4.5-cp311-cp311-win_amd64.whl (56 kB)\n",
      "                                              0.0/56.1 kB ? eta -:--:--\n",
      "                                              0.0/56.1 kB ? eta -:--:--\n",
      "                                              0.0/56.1 kB ? eta -:--:--\n",
      "                                              0.0/56.1 kB ? eta -:--:--\n",
      "     -------                                  10.2/56.1 kB ? eta -:--:--\n",
      "     ---------------------                    30.7/56.1 kB 1.4 MB/s eta 0:00:01\n",
      "     ----------------------------------     51.2/56.1 kB 660.6 kB/s eta 0:00:01\n",
      "     -------------------------------------- 56.1/56.1 kB 420.9 kB/s eta 0:00:00\n",
      "Requirement already satisfied: numpy>=1.20 in c:\\users\\hp\\appdata\\local\\programs\\python\\python311\\lib\\site-packages (from matplotlib) (1.24.3)\n",
      "Requirement already satisfied: packaging>=20.0 in c:\\users\\hp\\appdata\\local\\programs\\python\\python311\\lib\\site-packages (from matplotlib) (23.1)\n",
      "Collecting pillow>=6.2.0 (from matplotlib)\n",
      "  Downloading Pillow-10.0.0-cp311-cp311-win_amd64.whl (2.5 MB)\n",
      "                                              0.0/2.5 MB ? eta -:--:--\n",
      "                                              0.0/2.5 MB ? eta -:--:--\n",
      "                                              0.0/2.5 MB ? eta -:--:--\n",
      "                                              0.0/2.5 MB 991.0 kB/s eta 0:00:03\n",
      "                                              0.1/2.5 MB 656.4 kB/s eta 0:00:04\n",
      "     -                                        0.1/2.5 MB 573.4 kB/s eta 0:00:05\n",
      "     -                                        0.1/2.5 MB 573.4 kB/s eta 0:00:05\n",
      "     -                                        0.1/2.5 MB 504.4 kB/s eta 0:00:05\n",
      "     -                                        0.1/2.5 MB 450.6 kB/s eta 0:00:06\n",
      "     --                                       0.1/2.5 MB 449.7 kB/s eta 0:00:06\n",
      "     --                                       0.2/2.5 MB 468.3 kB/s eta 0:00:06\n",
      "     --                                       0.2/2.5 MB 403.5 kB/s eta 0:00:06\n",
      "     --                                       0.2/2.5 MB 403.5 kB/s eta 0:00:06\n",
      "     ---                                      0.2/2.5 MB 393.8 kB/s eta 0:00:06\n",
      "     ---                                      0.2/2.5 MB 356.3 kB/s eta 0:00:07\n",
      "     ---                                      0.2/2.5 MB 372.0 kB/s eta 0:00:07\n",
      "     ---                                      0.2/2.5 MB 376.8 kB/s eta 0:00:07\n",
      "     ----                                     0.3/2.5 MB 357.7 kB/s eta 0:00:07\n",
      "     ----                                     0.3/2.5 MB 370.8 kB/s eta 0:00:07\n",
      "     ----                                     0.3/2.5 MB 354.0 kB/s eta 0:00:07\n",
      "     ----                                     0.3/2.5 MB 373.1 kB/s eta 0:00:06\n",
      "     -----                                    0.3/2.5 MB 376.6 kB/s eta 0:00:06\n",
      "     -----                                    0.3/2.5 MB 368.2 kB/s eta 0:00:06\n",
      "     -----                                    0.4/2.5 MB 370.2 kB/s eta 0:00:06\n",
      "     -----                                    0.4/2.5 MB 370.2 kB/s eta 0:00:06\n",
      "     ------                                   0.4/2.5 MB 376.0 kB/s eta 0:00:06\n",
      "     ------                                   0.4/2.5 MB 374.7 kB/s eta 0:00:06\n",
      "     -------                                  0.4/2.5 MB 382.3 kB/s eta 0:00:06\n",
      "     -------                                  0.5/2.5 MB 395.1 kB/s eta 0:00:06\n",
      "     --------                                 0.5/2.5 MB 396.6 kB/s eta 0:00:06\n",
      "     --------                                 0.5/2.5 MB 407.7 kB/s eta 0:00:05\n",
      "     --------                                 0.5/2.5 MB 407.7 kB/s eta 0:00:05\n",
      "     --------                                 0.5/2.5 MB 407.7 kB/s eta 0:00:05\n",
      "     --------                                 0.6/2.5 MB 373.5 kB/s eta 0:00:06\n",
      "     ----------                               0.7/2.5 MB 436.9 kB/s eta 0:00:05\n",
      "     -----------                              0.7/2.5 MB 448.1 kB/s eta 0:00:05\n",
      "     -----------                              0.7/2.5 MB 445.8 kB/s eta 0:00:05\n",
      "     -----------                              0.7/2.5 MB 453.7 kB/s eta 0:00:04\n",
      "     ------------                             0.8/2.5 MB 455.2 kB/s eta 0:00:04\n",
      "     ------------                             0.8/2.5 MB 464.9 kB/s eta 0:00:04\n",
      "     -------------                            0.8/2.5 MB 468.1 kB/s eta 0:00:04\n",
      "     -------------                            0.9/2.5 MB 470.5 kB/s eta 0:00:04\n",
      "     --------------                           0.9/2.5 MB 471.4 kB/s eta 0:00:04\n",
      "     --------------                           0.9/2.5 MB 471.4 kB/s eta 0:00:04\n",
      "     --------------                           0.9/2.5 MB 464.5 kB/s eta 0:00:04\n",
      "     ---------------                          1.0/2.5 MB 467.5 kB/s eta 0:00:04\n",
      "     ---------------                          1.0/2.5 MB 461.8 kB/s eta 0:00:04\n",
      "     ----------------                         1.0/2.5 MB 472.2 kB/s eta 0:00:04\n",
      "     ----------------                         1.0/2.5 MB 475.0 kB/s eta 0:00:04\n",
      "     ----------------                         1.1/2.5 MB 475.5 kB/s eta 0:00:04\n",
      "     -----------------                        1.1/2.5 MB 476.7 kB/s eta 0:00:04\n",
      "     -----------------                        1.1/2.5 MB 481.7 kB/s eta 0:00:03\n",
      "     ------------------                       1.1/2.5 MB 485.1 kB/s eta 0:00:03\n",
      "     ------------------                       1.2/2.5 MB 485.2 kB/s eta 0:00:03\n",
      "     -------------------                      1.2/2.5 MB 487.4 kB/s eta 0:00:03\n",
      "     -------------------                      1.2/2.5 MB 482.3 kB/s eta 0:00:03\n",
      "     -------------------                      1.2/2.5 MB 481.5 kB/s eta 0:00:03\n",
      "     -------------------                      1.2/2.5 MB 481.5 kB/s eta 0:00:03\n",
      "     -------------------                      1.2/2.5 MB 473.9 kB/s eta 0:00:03\n",
      "     --------------------                     1.3/2.5 MB 475.4 kB/s eta 0:00:03\n",
      "     --------------------                     1.3/2.5 MB 475.4 kB/s eta 0:00:03\n",
      "     --------------------                     1.3/2.5 MB 468.2 kB/s eta 0:00:03\n",
      "     --------------------                     1.3/2.5 MB 467.6 kB/s eta 0:00:03\n",
      "     ---------------------                    1.3/2.5 MB 464.6 kB/s eta 0:00:03\n",
      "     ---------------------                    1.4/2.5 MB 466.6 kB/s eta 0:00:03\n",
      "     ----------------------                   1.4/2.5 MB 467.2 kB/s eta 0:00:03\n",
      "     ----------------------                   1.4/2.5 MB 469.2 kB/s eta 0:00:03\n",
      "     ----------------------                   1.4/2.5 MB 467.3 kB/s eta 0:00:03\n",
      "     -----------------------                  1.5/2.5 MB 469.1 kB/s eta 0:00:03\n",
      "     -----------------------                  1.5/2.5 MB 465.3 kB/s eta 0:00:03\n",
      "     -----------------------                  1.5/2.5 MB 469.6 kB/s eta 0:00:03\n",
      "     -----------------------                  1.5/2.5 MB 469.6 kB/s eta 0:00:03\n",
      "     ------------------------                 1.5/2.5 MB 461.0 kB/s eta 0:00:03\n",
      "     ------------------------                 1.5/2.5 MB 460.7 kB/s eta 0:00:03\n",
      "     ------------------------                 1.5/2.5 MB 460.7 kB/s eta 0:00:03\n",
      "     ------------------------                 1.5/2.5 MB 460.7 kB/s eta 0:00:03\n",
      "     ------------------------                 1.5/2.5 MB 446.9 kB/s eta 0:00:03\n",
      "     ------------------------                 1.5/2.5 MB 446.9 kB/s eta 0:00:03\n",
      "     -------------------------                1.6/2.5 MB 448.5 kB/s eta 0:00:03\n",
      "     -------------------------                1.6/2.5 MB 452.2 kB/s eta 0:00:02\n",
      "     --------------------------               1.6/2.5 MB 447.3 kB/s eta 0:00:02\n",
      "     --------------------------               1.6/2.5 MB 447.3 kB/s eta 0:00:02\n",
      "     --------------------------               1.7/2.5 MB 441.5 kB/s eta 0:00:02\n",
      "     --------------------------               1.7/2.5 MB 441.5 kB/s eta 0:00:02\n",
      "     --------------------------               1.7/2.5 MB 435.2 kB/s eta 0:00:02\n",
      "     --------------------------               1.7/2.5 MB 435.2 kB/s eta 0:00:02\n",
      "     ---------------------------              1.7/2.5 MB 430.0 kB/s eta 0:00:02\n",
      "     ---------------------------              1.7/2.5 MB 430.0 kB/s eta 0:00:02\n",
      "     ---------------------------              1.7/2.5 MB 430.0 kB/s eta 0:00:02\n",
      "     ----------------------------             1.8/2.5 MB 427.0 kB/s eta 0:00:02\n",
      "     ----------------------------             1.8/2.5 MB 425.5 kB/s eta 0:00:02\n",
      "     ----------------------------             1.8/2.5 MB 424.8 kB/s eta 0:00:02\n",
      "     -----------------------------            1.8/2.5 MB 426.5 kB/s eta 0:00:02\n",
      "     -----------------------------            1.9/2.5 MB 427.5 kB/s eta 0:00:02\n",
      "     -----------------------------            1.9/2.5 MB 426.9 kB/s eta 0:00:02\n",
      "     ------------------------------           1.9/2.5 MB 429.3 kB/s eta 0:00:02\n",
      "     ------------------------------           1.9/2.5 MB 430.9 kB/s eta 0:00:02\n",
      "     -------------------------------          2.0/2.5 MB 430.9 kB/s eta 0:00:02\n",
      "     -------------------------------          2.0/2.5 MB 430.9 kB/s eta 0:00:02\n",
      "     -------------------------------          2.0/2.5 MB 422.9 kB/s eta 0:00:02\n",
      "     -------------------------------          2.0/2.5 MB 422.9 kB/s eta 0:00:02\n",
      "     -------------------------------          2.0/2.5 MB 421.7 kB/s eta 0:00:02\n",
      "     -------------------------------          2.0/2.5 MB 421.7 kB/s eta 0:00:02\n",
      "     -------------------------------          2.0/2.5 MB 414.2 kB/s eta 0:00:02\n",
      "     --------------------------------         2.0/2.5 MB 414.4 kB/s eta 0:00:02\n",
      "     --------------------------------         2.0/2.5 MB 415.9 kB/s eta 0:00:02\n",
      "     --------------------------------         2.1/2.5 MB 415.6 kB/s eta 0:00:02\n",
      "     ---------------------------------        2.1/2.5 MB 413.7 kB/s eta 0:00:02\n",
      "     ---------------------------------        2.1/2.5 MB 413.7 kB/s eta 0:00:02\n",
      "     ---------------------------------        2.1/2.5 MB 412.9 kB/s eta 0:00:01\n",
      "     ---------------------------------        2.1/2.5 MB 412.9 kB/s eta 0:00:01\n",
      "     ----------------------------------       2.2/2.5 MB 411.3 kB/s eta 0:00:01\n",
      "     ----------------------------------       2.2/2.5 MB 409.6 kB/s eta 0:00:01\n",
      "     ----------------------------------       2.2/2.5 MB 409.6 kB/s eta 0:00:01\n",
      "     -----------------------------------      2.2/2.5 MB 408.9 kB/s eta 0:00:01\n",
      "     -----------------------------------      2.2/2.5 MB 408.9 kB/s eta 0:00:01\n",
      "     -----------------------------------      2.2/2.5 MB 402.6 kB/s eta 0:00:01\n",
      "     -----------------------------------      2.2/2.5 MB 402.6 kB/s eta 0:00:01\n",
      "     -----------------------------------      2.2/2.5 MB 400.7 kB/s eta 0:00:01\n",
      "     -----------------------------------      2.2/2.5 MB 395.8 kB/s eta 0:00:01\n",
      "     -----------------------------------      2.2/2.5 MB 395.8 kB/s eta 0:00:01\n",
      "     -----------------------------------      2.2/2.5 MB 395.8 kB/s eta 0:00:01\n",
      "     ------------------------------------     2.3/2.5 MB 392.9 kB/s eta 0:00:01\n",
      "     ------------------------------------     2.3/2.5 MB 391.1 kB/s eta 0:00:01\n",
      "     ------------------------------------     2.3/2.5 MB 391.1 kB/s eta 0:00:01\n",
      "     ------------------------------------     2.3/2.5 MB 391.1 kB/s eta 0:00:01\n",
      "     ------------------------------------     2.3/2.5 MB 385.7 kB/s eta 0:00:01\n",
      "     ------------------------------------     2.3/2.5 MB 385.7 kB/s eta 0:00:01\n",
      "     ------------------------------------     2.3/2.5 MB 380.1 kB/s eta 0:00:01\n",
      "     ------------------------------------     2.3/2.5 MB 380.1 kB/s eta 0:00:01\n",
      "     ------------------------------------     2.3/2.5 MB 375.9 kB/s eta 0:00:01\n",
      "     ------------------------------------     2.3/2.5 MB 375.9 kB/s eta 0:00:01\n",
      "     -------------------------------------    2.3/2.5 MB 374.5 kB/s eta 0:00:01\n",
      "     -------------------------------------    2.4/2.5 MB 375.0 kB/s eta 0:00:01\n",
      "     -------------------------------------    2.4/2.5 MB 373.8 kB/s eta 0:00:01\n",
      "     --------------------------------------   2.4/2.5 MB 375.2 kB/s eta 0:00:01\n",
      "     --------------------------------------   2.4/2.5 MB 375.2 kB/s eta 0:00:01\n",
      "     --------------------------------------   2.4/2.5 MB 371.3 kB/s eta 0:00:01\n",
      "     --------------------------------------   2.4/2.5 MB 371.3 kB/s eta 0:00:01\n",
      "     --------------------------------------   2.4/2.5 MB 370.0 kB/s eta 0:00:01\n",
      "     --------------------------------------   2.4/2.5 MB 367.9 kB/s eta 0:00:01\n",
      "     --------------------------------------   2.4/2.5 MB 367.9 kB/s eta 0:00:01\n",
      "     ---------------------------------------  2.5/2.5 MB 366.0 kB/s eta 0:00:01\n",
      "     ---------------------------------------  2.5/2.5 MB 365.6 kB/s eta 0:00:01\n",
      "     ---------------------------------------  2.5/2.5 MB 364.6 kB/s eta 0:00:01\n",
      "     ---------------------------------------  2.5/2.5 MB 364.6 kB/s eta 0:00:01\n",
      "     ---------------------------------------  2.5/2.5 MB 364.3 kB/s eta 0:00:01\n",
      "     ---------------------------------------  2.5/2.5 MB 364.3 kB/s eta 0:00:01\n",
      "     ---------------------------------------  2.5/2.5 MB 364.3 kB/s eta 0:00:01\n",
      "     ---------------------------------------- 2.5/2.5 MB 356.0 kB/s eta 0:00:00\n",
      "Collecting pyparsing<3.1,>=2.3.1 (from matplotlib)\n",
      "  Downloading pyparsing-3.0.9-py3-none-any.whl (98 kB)\n",
      "                                              0.0/98.3 kB ? eta -:--:--\n",
      "     ----                                     10.2/98.3 kB ? eta -:--:--\n",
      "     -----------                            30.7/98.3 kB 262.6 kB/s eta 0:00:01\n",
      "     -----------                            30.7/98.3 kB 262.6 kB/s eta 0:00:01\n",
      "     -----------                            30.7/98.3 kB 262.6 kB/s eta 0:00:01\n",
      "     ---------------                        41.0/98.3 kB 151.3 kB/s eta 0:00:01\n",
      "     -----------------------                61.4/98.3 kB 193.2 kB/s eta 0:00:01\n",
      "     -----------------------                61.4/98.3 kB 193.2 kB/s eta 0:00:01\n",
      "     ---------------------------            71.7/98.3 kB 179.1 kB/s eta 0:00:01\n",
      "     ---------------------------            71.7/98.3 kB 179.1 kB/s eta 0:00:01\n",
      "     ---------------------------            71.7/98.3 kB 179.1 kB/s eta 0:00:01\n",
      "     -----------------------------------    92.2/98.3 kB 169.3 kB/s eta 0:00:01\n",
      "     -------------------------------------- 98.3/98.3 kB 165.9 kB/s eta 0:00:00\n",
      "Requirement already satisfied: python-dateutil>=2.7 in c:\\users\\hp\\appdata\\local\\programs\\python\\python311\\lib\\site-packages (from matplotlib) (2.8.2)\n",
      "Requirement already satisfied: six>=1.5 in c:\\users\\hp\\appdata\\local\\programs\\python\\python311\\lib\\site-packages (from python-dateutil>=2.7->matplotlib) (1.16.0)\n",
      "Installing collected packages: pyparsing, pillow, kiwisolver, fonttools, cycler, contourpy, matplotlib\n",
      "Successfully installed contourpy-1.1.0 cycler-0.11.0 fonttools-4.42.1 kiwisolver-1.4.5 matplotlib-3.7.2 pillow-10.0.0 pyparsing-3.0.9\n"
     ]
    },
    {
     "name": "stderr",
     "output_type": "stream",
     "text": [
      "\n",
      "[notice] A new release of pip is available: 23.1.2 -> 23.2.1\n",
      "[notice] To update, run: python.exe -m pip install --upgrade pip\n"
     ]
    }
   ],
   "source": [
    "!pip install matplotlib"
   ]
  },
  {
   "cell_type": "code",
   "execution_count": 6,
   "id": "46bfc435-30a2-42ac-a9b0-3bf673f31a7f",
   "metadata": {},
   "outputs": [
    {
     "data": {
      "text/plain": [
       "'3.7.2'"
      ]
     },
     "execution_count": 6,
     "metadata": {},
     "output_type": "execute_result"
    }
   ],
   "source": [
    "import matplotlib\n",
    "matplotlib.__version__"
   ]
  },
  {
   "cell_type": "code",
   "execution_count": 7,
   "id": "4f30f745-ea60-4487-910d-b8f5d8c5818e",
   "metadata": {},
   "outputs": [],
   "source": [
    "import matplotlib as plt"
   ]
  },
  {
   "cell_type": "code",
   "execution_count": 9,
   "id": "aedf36fa-e880-4577-8abd-ac9276324b63",
   "metadata": {},
   "outputs": [
    {
     "name": "stderr",
     "output_type": "stream",
     "text": [
      "Matplotlib is building the font cache; this may take a moment.\n"
     ]
    },
    {
     "ename": "ModuleNotFoundError",
     "evalue": "No module named 'matplotlib.pyplot.pie'; 'matplotlib.pyplot' is not a package",
     "output_type": "error",
     "traceback": [
      "\u001b[1;31m---------------------------------------------------------------------------\u001b[0m",
      "\u001b[1;31mModuleNotFoundError\u001b[0m                       Traceback (most recent call last)",
      "Cell \u001b[1;32mIn[9], line 1\u001b[0m\n\u001b[1;32m----> 1\u001b[0m \u001b[38;5;28;01mimport\u001b[39;00m \u001b[38;5;21;01mmatplotlib\u001b[39;00m\u001b[38;5;21;01m.\u001b[39;00m\u001b[38;5;21;01mpyplot\u001b[39;00m\u001b[38;5;21;01m.\u001b[39;00m\u001b[38;5;21;01mpie\u001b[39;00m \u001b[38;5;28;01mas\u001b[39;00m \u001b[38;5;21;01mplt\u001b[39;00m\n",
      "\u001b[1;31mModuleNotFoundError\u001b[0m: No module named 'matplotlib.pyplot.pie'; 'matplotlib.pyplot' is not a package"
     ]
    }
   ],
   "source": [
    "import matplotlib.pyplot.pie as plt"
   ]
  },
  {
   "cell_type": "code",
   "execution_count": 10,
   "id": "029014a9-d8b5-45ab-a8ee-f9203915d555",
   "metadata": {},
   "outputs": [
    {
     "name": "stdout",
     "output_type": "stream",
     "text": [
      "Requirement already satisfied: matplotlib in c:\\users\\hp\\appdata\\local\\programs\\python\\python311\\lib\\site-packages (3.7.2)"
     ]
    },
    {
     "name": "stderr",
     "output_type": "stream",
     "text": [
      "\n",
      "[notice] A new release of pip is available: 23.1.2 -> 23.2.1\n",
      "[notice] To update, run: python.exe -m pip install --upgrade pip\n"
     ]
    },
    {
     "name": "stdout",
     "output_type": "stream",
     "text": [
      "\n",
      "Requirement already satisfied: contourpy>=1.0.1 in c:\\users\\hp\\appdata\\local\\programs\\python\\python311\\lib\\site-packages (from matplotlib) (1.1.0)\n",
      "Requirement already satisfied: cycler>=0.10 in c:\\users\\hp\\appdata\\local\\programs\\python\\python311\\lib\\site-packages (from matplotlib) (0.11.0)\n",
      "Requirement already satisfied: fonttools>=4.22.0 in c:\\users\\hp\\appdata\\local\\programs\\python\\python311\\lib\\site-packages (from matplotlib) (4.42.1)\n",
      "Requirement already satisfied: kiwisolver>=1.0.1 in c:\\users\\hp\\appdata\\local\\programs\\python\\python311\\lib\\site-packages (from matplotlib) (1.4.5)\n",
      "Requirement already satisfied: numpy>=1.20 in c:\\users\\hp\\appdata\\local\\programs\\python\\python311\\lib\\site-packages (from matplotlib) (1.24.3)\n",
      "Requirement already satisfied: packaging>=20.0 in c:\\users\\hp\\appdata\\local\\programs\\python\\python311\\lib\\site-packages (from matplotlib) (23.1)\n",
      "Requirement already satisfied: pillow>=6.2.0 in c:\\users\\hp\\appdata\\local\\programs\\python\\python311\\lib\\site-packages (from matplotlib) (10.0.0)\n",
      "Requirement already satisfied: pyparsing<3.1,>=2.3.1 in c:\\users\\hp\\appdata\\local\\programs\\python\\python311\\lib\\site-packages (from matplotlib) (3.0.9)\n",
      "Requirement already satisfied: python-dateutil>=2.7 in c:\\users\\hp\\appdata\\local\\programs\\python\\python311\\lib\\site-packages (from matplotlib) (2.8.2)\n",
      "Requirement already satisfied: six>=1.5 in c:\\users\\hp\\appdata\\local\\programs\\python\\python311\\lib\\site-packages (from python-dateutil>=2.7->matplotlib) (1.16.0)\n"
     ]
    }
   ],
   "source": [
    "!pip install --upgrade matplotlib"
   ]
  },
  {
   "cell_type": "code",
   "execution_count": 17,
   "id": "6b049e0f-52b6-46e1-8fda-46999ebe11b0",
   "metadata": {},
   "outputs": [
    {
     "ename": "TypeError",
     "evalue": "'module' object is not callable",
     "output_type": "error",
     "traceback": [
      "\u001b[1;31m---------------------------------------------------------------------------\u001b[0m",
      "\u001b[1;31mTypeError\u001b[0m                                 Traceback (most recent call last)",
      "Cell \u001b[1;32mIn[17], line 8\u001b[0m\n\u001b[0;32m      5\u001b[0m matplotlib\u001b[38;5;241m.\u001b[39mpyplot\u001b[38;5;241m.\u001b[39mpie(slices,labels\u001b[38;5;241m=\u001b[39myears,colors\u001b[38;5;241m=\u001b[39mcolor, explode\u001b[38;5;241m=\u001b[39mexplode, autopct\u001b[38;5;241m=\u001b[39m\u001b[38;5;124m'\u001b[39m\u001b[38;5;132;01m%1.1f\u001b[39;00m\u001b[38;5;132;01m%%\u001b[39;00m\u001b[38;5;124m'\u001b[39m, startangle\u001b[38;5;241m=\u001b[39m\u001b[38;5;241m140\u001b[39m)\n\u001b[0;32m      7\u001b[0m matplotlib\u001b[38;5;241m.\u001b[39mpyplot\u001b[38;5;241m.\u001b[39mtitle(\u001b[38;5;124m\"\u001b[39m\u001b[38;5;124mDistribution of Students by Year during orientation of DCISM\u001b[39m\u001b[38;5;124m\"\u001b[39m)\n\u001b[1;32m----> 8\u001b[0m \u001b[43mplt\u001b[49m\u001b[38;5;241;43m.\u001b[39;49m\u001b[43mlegend\u001b[49m\u001b[43m(\u001b[49m\u001b[43m)\u001b[49m\n\u001b[0;32m      9\u001b[0m plt\u001b[38;5;241m.\u001b[39mshow()\n\u001b[0;32m     11\u001b[0m \u001b[38;5;28mprint\u001b[39m(\u001b[38;5;124m\"\u001b[39m\u001b[38;5;124mThe 1st year students had the biggest population\u001b[39m\u001b[38;5;124m\"\u001b[39m)\n",
      "\u001b[1;31mTypeError\u001b[0m: 'module' object is not callable"
     ]
    },
    {
     "data": {
      "image/png": "[encoded data removed]",
      "text/plain": [
       "<Figure size 640x480 with 1 Axes>"
      ]
     },
     "metadata": {},
     "output_type": "display_data"
    }
   ],
   "source": [
    "years = ['1st years','2nd years','3rd years','4th years','Irregular']\n",
    "slices = [76, 53, 47, 30, 28]\n",
    "color = ['yellow','orange','blue','green','red','pink']\n",
    "explode = (0.1, 0, 0, 0, 0)\n",
    "matplotlib.pyplot.pie(slices,labels=years,colors=color, explode=explode, autopct='%1.1f%%', startangle=140)\n",
    "\n",
    "matplotlib.pyplot.title(\"Distribution of Students by Year during orientation of DCISM\")\n",
    "plt.legend()\n",
    "plt.show()\n",
    "\n",
    "print(\"The 1st year students had the biggest population\")"
   ]
  },
  {
   "cell_type": "code",
   "execution_count": null,
   "id": "cd5e71eb-04da-473d-9d8d-b28e418e5519",
   "metadata": {},
   "outputs": [],
   "source": []
  }
 ],
 "metadata": {
  "kernelspec": {
   "display_name": "Python 3 (ipykernel)",
   "language": "python",
   "name": "python3"
  },
  "language_info": {
   "codemirror_mode": {
    "name": "ipython",
    "version": 3
   },
   "file_extension": ".py",
   "mimetype": "text/x-python",
   "name": "python",
   "nbconvert_exporter": "python",
   "pygments_lexer": "ipython3",
   "version": "3.11.4"
  }
 },
 "nbformat": 4,
 "nbformat_minor": 5
}
